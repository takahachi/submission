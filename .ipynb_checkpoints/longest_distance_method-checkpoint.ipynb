{
 "cells": [
  {
   "cell_type": "code",
   "execution_count": 4,
   "id": "b43ea3b7-e8c6-4a11-adf0-98f7e00f3db2",
   "metadata": {},
   "outputs": [
    {
     "name": "stdout",
     "output_type": "stream",
     "text": [
      "z[ 0 ]= 0\n",
      "z[ 1 ]= 0\n",
      "z[ 2 ]= 0\n",
      "z[ 3 ]= 0\n",
      "z[ 4 ]= 0\n",
      "z[ 5 ]= 5\n",
      "z[ 6 ]= 5\n",
      "z[ 7 ]= 5\n",
      "z[ 8 ]= 5\n",
      "z[ 9 ]= 5\n",
      "z[ 10 ]= 0\n",
      "z[ 11 ]= 0\n",
      "z[ 12 ]= 0\n",
      "z[ 13 ]= 0\n",
      "z[ 14 ]= 0\n",
      "z[ 15 ]= 0\n",
      "z[ 16 ]= 5\n",
      "z[ 17 ]= 5\n",
      "z[ 18 ]= 5\n",
      "z[ 19 ]= 5\n"
     ]
    }
   ],
   "source": [
    "import math\n",
    "import numpy as np\n",
    "\n",
    "x=[(0.3,5.6),(1.1,5.9),(2.1,6.2),(3.0,7.2),(4.0,7.2),(5.1,8.1),(6.3,8.5),(7.1,8.5),(8.9,9.3),(9.7,9.5),(0.8,1.6),(1.3,2.2),(2.8,2.5),(3.2,3.0),(4.3,3.0),(5.0,4.4),(6.8,4.2),(7.2,4.9),(8.4,5.5),(9.7,6.1)]\n",
    "N=20\n",
    "z=range(N)\n",
    "x=np.array(x)\n",
    "z=np.array(z)\n",
    "\n",
    "k=N\n",
    "while k>2:\n",
    "    w=np.ones(N**2).reshape(N,N)*(-9999.0)\n",
    "    for i in range(N-1) :\n",
    "        for j in range(i+1,N) :\n",
    "            for t in range(N-1) :\n",
    "                for r in range(i+1,N) :\n",
    "                    if z[t]==i and z[r]==j :\n",
    "                        d=np.linalg.norm(x[t]-x[r])\n",
    "                        if d > w[i,j] :\n",
    "                            w[i,j]=d                    \n",
    "                            #print(\"i=\",i,\"j=\",j,\"のとき\")\n",
    "\n",
    "\n",
    "    min=999   \n",
    "    for i in range(N-1) :\n",
    "        for j in range(i+1,N) :\n",
    "            if min>w[i,j] and w[i,j]!=-9999.0 :\n",
    "                min=w[i,j]\n",
    "                i_min=i\n",
    "                j_min=j\n",
    "                \n",
    "    for i in range(N) : \n",
    "        if z[i] == j_min :\n",
    "            #print(\"変化前z[i]=\",z[i])\n",
    "            z[i]=i_min\n",
    "            #print(\"変化後z[i]=\",z[i])\n",
    "\n",
    "    k-=1\n",
    "\n",
    "for i in range(N):\n",
    "    print(\"z[\",i,\"]=\",z[i])\n"
   ]
  },
  {
   "cell_type": "code",
   "execution_count": 20,
   "id": "562f7f62-6053-4b2f-8b16-e5848e923592",
   "metadata": {},
   "outputs": [
    {
     "data": {
      "image/png": "[encoded data removed]",
      "text/plain": [
       "<Figure size 640x480 with 1 Axes>"
      ]
     },
     "metadata": {},
     "output_type": "display_data"
    }
   ],
   "source": [
    "import matplotlib.pyplot as plt\n",
    "x=[0.3,1.1,2.1,3.0,4.0,5.1,6.3,7.1,8.9,9.7,0.8,1.3,2.8,3.2,4.3,5.0,6.8,7.2,8.4,9.7]\n",
    "y=[5.6,5.9,6.2,7.2,7.2,8.1,8.5,8.5,9.3,9.5,1.6,2.2,2.5,3.0,3.0,4.4,4.2,4.9,5.5,6.1]\n",
    "plt.scatter(x[0:5]+x[10:16],y[0:5]+y[10:16],color=\"red\")\n",
    "plt.scatter(x[5:10]+x[16:20],y[5:10]+y[16:20])\n",
    "plt.show()"
   ]
  },
  {
   "cell_type": "code",
   "execution_count": 18,
   "id": "8cc2e3cd-b0f2-473e-9f83-74c8b9b8ecae",
   "metadata": {},
   "outputs": [
    {
     "name": "stdout",
     "output_type": "stream",
     "text": [
      "z[ 0 ]= 0\n",
      "z[ 1 ]= 0\n",
      "z[ 2 ]= 2\n",
      "z[ 3 ]= 2\n",
      "z[ 4 ]= 2\n"
     ]
    }
   ],
   "source": [
    "import math\n",
    "import numpy as np\n",
    "\n",
    "x=[(0.0,0.0),(3.0,0.0),(4.0,3.0),(2.0,4.0),(1.0,3.0)]\n",
    "N=5\n",
    "z=range(N)\n",
    "x=np.array(x)\n",
    "z=np.array(z)\n",
    "\n",
    "k=N\n",
    "while k>2:\n",
    "    w=np.ones(N**2).reshape(N,N)*-9999.0\n",
    "    for i in range(N-1) :\n",
    "        for j in range(i+1,N) :\n",
    "            for t in range(N-1) :\n",
    "                for r in range(i+1,N) :\n",
    "                    if z[t]==i and z[r]==j :\n",
    "                        d=np.linalg.norm(x[t]-x[r])\n",
    "                        if d > w[i,j] :\n",
    "                            w[i,j]=d                  \n",
    "                            #print(\"i=\",i,\"j=\",j,\"のとき\")\n",
    "\n",
    "    min=999   \n",
    "    for i in range(N-1) :\n",
    "        for j in range(i+1,N) :\n",
    "            if min>w[i,j] and w[i,j]!=-9999.0 :\n",
    "                min=w[i,j]\n",
    "                i_min=i\n",
    "                j_min=j\n",
    "                \n",
    "    for i in range(N) : \n",
    "        if z[i] == j_min :\n",
    "            #print(\"変化前z[i]=\",z[i])\n",
    "            z[i]=i_min\n",
    "            #print(\"変化後z[i]=\",z[i])\n",
    "\n",
    "    k-=1\n",
    "\n",
    "for i in range(N):\n",
    "    print(\"z[\",i,\"]=\",z[i])\n",
    "         "
   ]
  },
  {
   "cell_type": "code",
   "execution_count": null,
   "id": "3e74b4e0-fd4f-4740-b753-b21f60dcd45a",
   "metadata": {},
   "outputs": [],
   "source": []
  }
 ],
 "metadata": {
  "kernelspec": {
   "display_name": "Python 3 (ipykernel)",
   "language": "python",
   "name": "python3"
  },
  "language_info": {
   "codemirror_mode": {
    "name": "ipython",
    "version": 3
   },
   "file_extension": ".py",
   "mimetype": "text/x-python",
   "name": "python",
   "nbconvert_exporter": "python",
   "pygments_lexer": "ipython3",
   "version": "3.11.5"
  }
 },
 "nbformat": 4,
 "nbformat_minor": 5
}
